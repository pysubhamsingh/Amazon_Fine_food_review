{
  "nbformat": 4,
  "nbformat_minor": 0,
  "metadata": {
    "colab": {
      "name": "Amazon_fine_food_EDA and PREPROCESSING.ipynb",
      "provenance": [],
      "collapsed_sections": []
    },
    "kernelspec": {
      "name": "python3",
      "display_name": "Python 3"
    },
    "language_info": {
      "name": "python"
    }
  },
  "cells": [
    {
      "cell_type": "markdown",
      "source": [
        "##FEATURIZATION"
      ],
      "metadata": {
        "id": "U9QhRr3XTjYc"
      }
    },
    {
      "cell_type": "markdown",
      "source": [
        "##BAG OF WORDS"
      ],
      "metadata": {
        "id": "EoQ_LtU2Tl2a"
      }
    },
    {
      "cell_type": "code",
      "source": [
        "from sklearn.feature_extraction.text import TfidfTransformer\n",
        "from sklearn.feature_extraction.text import TfidfVectorizer\n",
        "from sklearn.feature_extraction.text import CountVectorizer\n",
        "\n",
        "\n",
        "from tqdm import tqdm\n",
        "import os"
      ],
      "metadata": {
        "id": "uZD5LIm1UGhI"
      },
      "execution_count": 94,
      "outputs": []
    },
    {
      "cell_type": "code",
      "source": [
        "count_vect = CountVectorizer() \n",
        "count_vect.fit(preprocessed_summary)\n",
        "\n",
        "\n",
        "final_counts_summary = count_vect.transform(preprocessed_summary)\n",
        "print(\"the type of count vectorizer \",type(final_counts_summary))\n",
        "print(\"the shape of out text BOW vectorizer \",final_counts_summary.get_shape())\n",
        "print(\"the number of unique words \", final_counts_summary.get_shape()[1])"
      ],
      "metadata": {
        "colab": {
          "base_uri": "https://localhost:8080/"
        },
        "id": "iUDGApy0ToSs",
        "outputId": "bf69b236-e6ad-483c-c25c-bbc23f376167"
      },
      "execution_count": 99,
      "outputs": [
        {
          "output_type": "stream",
          "name": "stdout",
          "text": [
            "the type of count vectorizer  <class 'scipy.sparse.csr.csr_matrix'>\n",
            "the shape of out text BOW vectorizer  (364159, 31202)\n",
            "the number of unique words  31202\n"
          ]
        }
      ]
    },
    {
      "cell_type": "code",
      "source": [
        "count_vect = CountVectorizer() \n",
        "count_vect.fit(preprocessed_text)\n",
        "\n",
        "\n",
        "final_counts_text = count_vect.transform(preprocessed_text)\n",
        "print(\"the type of count vectorizer \",type(final_counts_text))\n",
        "print(\"the shape of out text BOW vectorizer \",final_counts_text.get_shape())\n",
        "print(\"the number of unique words \", final_counts_text.get_shape()[1])"
      ],
      "metadata": {
        "colab": {
          "base_uri": "https://localhost:8080/"
        },
        "id": "li4iaQRPTyQL",
        "outputId": "d1cd35a4-54e9-49d5-886e-ffa3639cdd7a"
      },
      "execution_count": 98,
      "outputs": [
        {
          "output_type": "stream",
          "name": "stdout",
          "text": [
            "the type of count vectorizer  <class 'scipy.sparse.csr.csr_matrix'>\n",
            "the shape of out text BOW vectorizer  (364159, 118881)\n",
            "the number of unique words  118881\n"
          ]
        }
      ]
    },
    {
      "cell_type": "markdown",
      "source": [
        "##TF-IDF"
      ],
      "metadata": {
        "id": "QiYlYAiaVBBg"
      }
    },
    {
      "cell_type": "code",
      "source": [
        "tf_idf_vect = TfidfVectorizer(ngram_range=(1,2), min_df=10)\n",
        "tf_idf_vect.fit(preprocessed_summary)\n",
        "\n",
        "\n",
        "final_tf_idf_summary= tf_idf_vect.transform(preprocessed_summary)\n",
        "print(\"the type of count vectorizer \",type(final_tf_idf_summary))\n",
        "print(\"the shape of out text TFIDF vectorizer \",final_tf_idf_summary.get_shape())\n",
        "print(\"the number of unique words including both unigrams and bigrams \", final_tf_idf_summary.get_shape()[1])"
      ],
      "metadata": {
        "colab": {
          "base_uri": "https://localhost:8080/"
        },
        "id": "HBBo6q3iU_w2",
        "outputId": "a25b2bc0-20ef-4670-e93f-8267a3e4ca56"
      },
      "execution_count": 101,
      "outputs": [
        {
          "output_type": "stream",
          "name": "stdout",
          "text": [
            "the type of count vectorizer  <class 'scipy.sparse.csr.csr_matrix'>\n",
            "the shape of out text TFIDF vectorizer  (364159, 14002)\n",
            "the number of unique words including both unigrams and bigrams  14002\n"
          ]
        }
      ]
    },
    {
      "cell_type": "code",
      "source": [
        "tf_idf_vect = TfidfVectorizer(ngram_range=(1,2), min_df=10)\n",
        "tf_idf_vect.fit(preprocessed_text)\n",
        "\n",
        "\n",
        "final_tf_idf_text = tf_idf_vect.transform(preprocessed_text)\n",
        "print(\"the type of count vectorizer \",type(final_tf_idf_text))\n",
        "print(\"the shape of out text TFIDF vectorizer \",final_tf_idf_text.get_shape())\n",
        "print(\"the number of unique words including both unigrams and bigrams \", final_tf_idf_text.get_shape()[1])"
      ],
      "metadata": {
        "colab": {
          "base_uri": "https://localhost:8080/"
        },
        "id": "rjgN8mQXVZAy",
        "outputId": "6f6d7998-af7b-46be-e831-25eb207fb2a2"
      },
      "execution_count": 102,
      "outputs": [
        {
          "output_type": "stream",
          "name": "stdout",
          "text": [
            "the type of count vectorizer  <class 'scipy.sparse.csr.csr_matrix'>\n",
            "the shape of out text TFIDF vectorizer  (364159, 206516)\n",
            "the number of unique words including both unigrams and bigrams  206516\n"
          ]
        }
      ]
    }
  ]
}